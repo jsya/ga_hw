{
 "cells": [
  {
   "cell_type": "markdown",
   "metadata": {},
   "source": [
    "## Pandas and Visualization Homework with IMDb data\n",
    "#### Due Monday December 21, 2014\n",
    "#### Judy Yang"
   ]
  },
  {
   "cell_type": "markdown",
   "metadata": {},
   "source": [
    "#### Part 1"
   ]
  },
  {
   "cell_type": "code",
   "execution_count": 119,
   "metadata": {
    "collapsed": false
   },
   "outputs": [],
   "source": [
    "import os\n",
    "import pandas as pd\n",
    "import matplotlib.pyplot as plt\n",
    "import seaborn as sns\n",
    "import numpy as np\n",
    "from scipy import stats, integrate\n",
    "sns.set(color_codes=True)"
   ]
  },
  {
   "cell_type": "code",
   "execution_count": 120,
   "metadata": {
    "collapsed": true
   },
   "outputs": [],
   "source": [
    "# here we set some aesthetic parameters so that all of our figures are nice and big\n",
    "plt.rcParams['figure.figsize'] = (8, 6)\n",
    "plt.rcParams['font.size'] = 14\n",
    "sns.set(style=\"white\", context=\"talk\")"
   ]
  },
  {
   "cell_type": "markdown",
   "metadata": {},
   "source": [
    "read in 'imdb_1000.csv' and store it in a DataFrame named movies"
   ]
  },
  {
   "cell_type": "code",
   "execution_count": 121,
   "metadata": {
    "collapsed": true
   },
   "outputs": [],
   "source": [
    "imdb = pd.read_csv(\"../data/imdb_1000.csv\", header=0,  na_filter=False)"
   ]
  },
  {
   "cell_type": "markdown",
   "metadata": {},
   "source": [
    "check the number of rows and columns"
   ]
  },
  {
   "cell_type": "code",
   "execution_count": 122,
   "metadata": {
    "collapsed": false
   },
   "outputs": [
    {
     "data": {
      "text/plain": [
       "(979, 6)"
      ]
     },
     "execution_count": 122,
     "metadata": {},
     "output_type": "execute_result"
    }
   ],
   "source": [
    "imdb.shape\n",
    "#979 rows, 6 columns"
   ]
  },
  {
   "cell_type": "markdown",
   "metadata": {},
   "source": [
    "check the data type of each column"
   ]
  },
  {
   "cell_type": "code",
   "execution_count": 123,
   "metadata": {
    "collapsed": false
   },
   "outputs": [
    {
     "data": {
      "text/plain": [
       "pandas.core.series.Series"
      ]
     },
     "execution_count": 123,
     "metadata": {},
     "output_type": "execute_result"
    }
   ],
   "source": [
    "#Q: loop each column?\n",
    "type(imdb.title)"
   ]
  },
  {
   "cell_type": "markdown",
   "metadata": {},
   "source": [
    "calculate the average movie duration"
   ]
  },
  {
   "cell_type": "code",
   "execution_count": 124,
   "metadata": {
    "collapsed": false
   },
   "outputs": [
    {
     "data": {
      "text/plain": [
       "120.97957099080695"
      ]
     },
     "execution_count": 124,
     "metadata": {},
     "output_type": "execute_result"
    }
   ],
   "source": [
    "imdb.duration.mean()"
   ]
  },
  {
   "cell_type": "markdown",
   "metadata": {},
   "source": [
    "sort the DataFrame by duration to find the shortest and longest movies"
   ]
  },
  {
   "cell_type": "code",
   "execution_count": 125,
   "metadata": {
    "collapsed": false
   },
   "outputs": [
    {
     "name": "stderr",
     "output_type": "stream",
     "text": [
      "/Users/judyyang/anaconda/lib/python2.7/site-packages/ipykernel/__main__.py:1: FutureWarning: by argument to sort_index is deprecated, pls use .sort_values(by=...)\n",
      "  if __name__ == '__main__':\n",
      "/Users/judyyang/anaconda/lib/python2.7/site-packages/ipykernel/__main__.py:3: FutureWarning: by argument to sort_index is deprecated, pls use .sort_values(by=...)\n",
      "  app.launch_new_instance()\n"
     ]
    },
    {
     "data": {
      "text/html": [
       "<div>\n",
       "<table border=\"1\" class=\"dataframe\">\n",
       "  <thead>\n",
       "    <tr style=\"text-align: right;\">\n",
       "      <th></th>\n",
       "      <th>star_rating</th>\n",
       "      <th>title</th>\n",
       "      <th>content_rating</th>\n",
       "      <th>genre</th>\n",
       "      <th>duration</th>\n",
       "      <th>actors_list</th>\n",
       "    </tr>\n",
       "  </thead>\n",
       "  <tbody>\n",
       "    <tr>\n",
       "      <th>389</th>\n",
       "      <td>8</td>\n",
       "      <td>Freaks</td>\n",
       "      <td>UNRATED</td>\n",
       "      <td>Drama</td>\n",
       "      <td>64</td>\n",
       "      <td>[u'Wallace Ford', u'Leila Hyams', u'Olga Bacla...</td>\n",
       "    </tr>\n",
       "  </tbody>\n",
       "</table>\n",
       "</div>"
      ],
      "text/plain": [
       "     star_rating   title content_rating  genre  duration  \\\n",
       "389            8  Freaks        UNRATED  Drama        64   \n",
       "\n",
       "                                           actors_list  \n",
       "389  [u'Wallace Ford', u'Leila Hyams', u'Olga Bacla...  "
      ]
     },
     "execution_count": 125,
     "metadata": {},
     "output_type": "execute_result"
    }
   ],
   "source": [
    "imdb.sort_index(by=['duration'], ascending=[False]).head(1)\n",
    "#longest is Hamlet\n",
    "imdb.sort_index(by=['duration'], ascending=[True]).head(1)\n",
    "#shortest is Freaks\n"
   ]
  },
  {
   "cell_type": "markdown",
   "metadata": {},
   "source": [
    "create a histogram of duration\n"
   ]
  },
  {
   "cell_type": "code",
   "execution_count": 126,
   "metadata": {
    "collapsed": false
   },
   "outputs": [
    {
     "data": {
      "text/plain": [
       "(array([  25.,  168.,  301.,  259.,  111.,   66.,   27.,   14.,    5.,    3.]),\n",
       " array([  64. ,   81.8,   99.6,  117.4,  135.2,  153. ,  170.8,  188.6,\n",
       "         206.4,  224.2,  242. ]),\n",
       " <a list of 10 Patch objects>)"
      ]
     },
     "execution_count": 126,
     "metadata": {},
     "output_type": "execute_result"
    },
    {
     "data": {
      "image/png": "[encoded data removed]",
      "text/plain": [
       "<matplotlib.figure.Figure at 0x12095fa90>"
      ]
     },
     "metadata": {},
     "output_type": "display_data"
    }
   ],
   "source": [
    "plt.hist(imdb.duration)"
   ]
  },
  {
   "cell_type": "markdown",
   "metadata": {},
   "source": [
    "use a box plot to display that same data"
   ]
  },
  {
   "cell_type": "code",
   "execution_count": 127,
   "metadata": {
    "collapsed": false
   },
   "outputs": [
    {
     "data": {
      "text/plain": [
       "{'boxes': [<matplotlib.lines.Line2D at 0x1210212d0>],\n",
       " 'caps': [<matplotlib.lines.Line2D at 0x12102f150>,\n",
       "  <matplotlib.lines.Line2D at 0x12102f790>],\n",
       " 'fliers': [<matplotlib.lines.Line2D at 0x12103a450>],\n",
       " 'means': [],\n",
       " 'medians': [<matplotlib.lines.Line2D at 0x12102fdd0>],\n",
       " 'whiskers': [<matplotlib.lines.Line2D at 0x121021410>,\n",
       "  <matplotlib.lines.Line2D at 0x121021ad0>]}"
      ]
     },
     "execution_count": 127,
     "metadata": {},
     "output_type": "execute_result"
    },
    {
     "data": {
      "image/png": "[encoded data removed]",
      "text/plain": [
       "<matplotlib.figure.Figure at 0x120e24610>"
      ]
     },
     "metadata": {},
     "output_type": "display_data"
    }
   ],
   "source": [
    "plt.boxplot(imdb.duration)"
   ]
  },
  {
   "cell_type": "markdown",
   "metadata": {},
   "source": [
    "#### Part 2"
   ]
  },
  {
   "cell_type": "markdown",
   "metadata": {},
   "source": [
    "count how many movies have each of the content ratings"
   ]
  },
  {
   "cell_type": "code",
   "execution_count": 128,
   "metadata": {
    "collapsed": false
   },
   "outputs": [
    {
     "data": {
      "text/plain": [
       "R            460\n",
       "PG-13        189\n",
       "PG           123\n",
       "NOT RATED     65\n",
       "APPROVED      47\n",
       "UNRATED       38\n",
       "G             32\n",
       "PASSED         7\n",
       "NC-17          7\n",
       "X              4\n",
       "GP             3\n",
       "               3\n",
       "TV-MA          1\n",
       "Name: content_rating, dtype: int64"
      ]
     },
     "execution_count": 128,
     "metadata": {},
     "output_type": "execute_result"
    }
   ],
   "source": [
    "imdb.content_rating.value_counts()"
   ]
  },
  {
   "cell_type": "markdown",
   "metadata": {},
   "source": [
    "use a visualization to display that same data, including a title and x and y labels"
   ]
  },
  {
   "cell_type": "code",
   "execution_count": 135,
   "metadata": {
    "collapsed": false
   },
   "outputs": [
    {
     "data": {
      "text/plain": [
       "<matplotlib.text.Text at 0x12198d610>"
      ]
     },
     "execution_count": 135,
     "metadata": {},
     "output_type": "execute_result"
    },
    {
     "data": {
      "image/png": "[encoded data removed]",
      "text/plain": [
       "<matplotlib.figure.Figure at 0x1213f7cd0>"
      ]
     },
     "metadata": {},
     "output_type": "display_data"
    }
   ],
   "source": [
    "#need to add title\n",
    "imdb.content_rating.value_counts().plot(kind=\"bar\")\n",
    "plt.title(\"Number of movies by Content Rating\")"
   ]
  },
  {
   "cell_type": "markdown",
   "metadata": {},
   "source": [
    "convert the following content ratings to \"UNRATED\": NOT RATED, APPROVED, PASSED, GP"
   ]
  },
  {
   "cell_type": "code",
   "execution_count": 136,
   "metadata": {
    "collapsed": false
   },
   "outputs": [
    {
     "data": {
      "text/plain": [
       "R          460\n",
       "PG-13      189\n",
       "UNRATED    160\n",
       "PG         123\n",
       "G           32\n",
       "NC-17        7\n",
       "X            4\n",
       "             3\n",
       "TV-MA        1\n",
       "Name: content_rating, dtype: int64"
      ]
     },
     "execution_count": 136,
     "metadata": {},
     "output_type": "execute_result"
    }
   ],
   "source": [
    "imdb['content_rating']=imdb['content_rating'].str.replace('NOT RATED' ,'UNRATED')\n",
    "imdb['content_rating']=imdb['content_rating'].str.replace('APPROVED' ,'UNRATED')\n",
    "imdb['content_rating']=imdb['content_rating'].str.replace('PASSED' ,'UNRATED')\n",
    "imdb['content_rating']=imdb['content_rating'].str.replace('GP' ,'UNRATED')\n",
    "\n",
    "imdb.content_rating.value_counts()"
   ]
  },
  {
   "cell_type": "markdown",
   "metadata": {},
   "source": [
    "convert the following content ratings to \"NC-17\": X, TV-MA"
   ]
  },
  {
   "cell_type": "code",
   "execution_count": 137,
   "metadata": {
    "collapsed": false
   },
   "outputs": [
    {
     "data": {
      "text/plain": [
       "R          460\n",
       "PG-13      189\n",
       "UNRATED    160\n",
       "PG         123\n",
       "G           32\n",
       "NC-17       12\n",
       "             3\n",
       "Name: content_rating, dtype: int64"
      ]
     },
     "execution_count": 137,
     "metadata": {},
     "output_type": "execute_result"
    }
   ],
   "source": [
    "#Q: How to do multiple changes at once?\n",
    "imdb['content_rating']=imdb['content_rating'].str.replace('X','NC-17')\n",
    "imdb['content_rating']=imdb['content_rating'].str.replace('TV-MA','NC-17')\n",
    "imdb.content_rating.value_counts()"
   ]
  },
  {
   "cell_type": "markdown",
   "metadata": {},
   "source": [
    "count the number of missing values in each column"
   ]
  },
  {
   "cell_type": "code",
   "execution_count": 138,
   "metadata": {
    "collapsed": false
   },
   "outputs": [
    {
     "data": {
      "text/plain": [
       "star_rating       0\n",
       "title             0\n",
       "content_rating    0\n",
       "genre             0\n",
       "duration          0\n",
       "actors_list       0\n",
       "dtype: int64"
      ]
     },
     "execution_count": 138,
     "metadata": {},
     "output_type": "execute_result"
    }
   ],
   "source": [
    "#Q: how to count string missing?\n",
    "imdb.isnull().sum()      "
   ]
  },
  {
   "cell_type": "markdown",
   "metadata": {},
   "source": [
    "if there are missing values: examine them, then fill them in with \"reasonable\" values"
   ]
  },
  {
   "cell_type": "code",
   "execution_count": null,
   "metadata": {
    "collapsed": true
   },
   "outputs": [],
   "source": [
    "# line 138 says there aren't, but it looks like there should be 3 missing from the content_rating column?"
   ]
  },
  {
   "cell_type": "code",
   "execution_count": null,
   "metadata": {
    "collapsed": true
   },
   "outputs": [],
   "source": []
  },
  {
   "cell_type": "markdown",
   "metadata": {},
   "source": [
    "calculate the average star rating for movies 2 hours or longer, and compare that with the average star rating for movies shorter than 2 hours"
   ]
  },
  {
   "cell_type": "code",
   "execution_count": 139,
   "metadata": {
    "collapsed": false
   },
   "outputs": [
    {
     "data": {
      "text/plain": [
       "143.38532110091742"
      ]
     },
     "execution_count": 139,
     "metadata": {},
     "output_type": "execute_result"
    }
   ],
   "source": [
    "imdb[imdb.duration>120].duration.mean()"
   ]
  },
  {
   "cell_type": "code",
   "execution_count": 140,
   "metadata": {
    "collapsed": false
   },
   "outputs": [
    {
     "data": {
      "text/plain": [
       "102.40571428571428"
      ]
     },
     "execution_count": 140,
     "metadata": {},
     "output_type": "execute_result"
    }
   ],
   "source": [
    "imdb[imdb.duration<120].duration.mean()"
   ]
  },
  {
   "cell_type": "code",
   "execution_count": null,
   "metadata": {
    "collapsed": true
   },
   "outputs": [],
   "source": [
    "#Q:how to do t-test to see if the means are different?"
   ]
  },
  {
   "cell_type": "markdown",
   "metadata": {},
   "source": [
    "use a visualization to detect whether there is a relationship between duration and star rating"
   ]
  },
  {
   "cell_type": "code",
   "execution_count": 145,
   "metadata": {
    "collapsed": false
   },
   "outputs": [
    {
     "data": {
      "text/plain": [
       "<matplotlib.axes._subplots.AxesSubplot at 0x12291c950>"
      ]
     },
     "execution_count": 145,
     "metadata": {},
     "output_type": "execute_result"
    },
    {
     "data": {
      "image/png": "[encoded data removed]",
      "text/plain": [
       "<matplotlib.figure.Figure at 0x1216c4e10>"
      ]
     },
     "metadata": {},
     "output_type": "display_data"
    }
   ],
   "source": [
    "sns.boxplot(x=\"content_rating\",y=\"duration\",data=imdb, order=('NC-17', 'R', 'PG-13', 'PG', 'G', 'UNRATED'))\n",
    "#among movies that are rated, it appears that adult movies have higher star ratings"
   ]
  },
  {
   "cell_type": "markdown",
   "metadata": {},
   "source": [
    "calculate the average duration for each genre"
   ]
  },
  {
   "cell_type": "code",
   "execution_count": 148,
   "metadata": {
    "collapsed": false
   },
   "outputs": [
    {
     "data": {
      "text/plain": [
       "genre\n",
       "Action       126.485294\n",
       "Adventure    134.840000\n",
       "Animation     96.596774\n",
       "Biography    131.844156\n",
       "Comedy       107.602564\n",
       "Crime        122.298387\n",
       "Drama        126.539568\n",
       "Family       107.500000\n",
       "Fantasy      112.000000\n",
       "Film-Noir     97.333333\n",
       "History       66.000000\n",
       "Horror       102.517241\n",
       "Mystery      115.625000\n",
       "Sci-Fi       109.000000\n",
       "Thriller     114.200000\n",
       "Western      136.666667\n",
       "Name: duration, dtype: float64"
      ]
     },
     "execution_count": 148,
     "metadata": {},
     "output_type": "execute_result"
    }
   ],
   "source": [
    "imdb.groupby('genre').duration.mean()"
   ]
  },
  {
   "cell_type": "markdown",
   "metadata": {},
   "source": [
    "#### Part 3"
   ]
  },
  {
   "cell_type": "markdown",
   "metadata": {},
   "source": [
    "visualize the relationship between content rating and duration\n"
   ]
  },
  {
   "cell_type": "code",
   "execution_count": 150,
   "metadata": {
    "collapsed": false
   },
   "outputs": [
    {
     "data": {
      "text/plain": [
       "<matplotlib.axes._subplots.AxesSubplot at 0x1231054d0>"
      ]
     },
     "execution_count": 150,
     "metadata": {},
     "output_type": "execute_result"
    },
    {
     "data": {
      "image/png": "[encoded data removed]",
      "text/plain": [
       "<matplotlib.figure.Figure at 0x122cc9e50>"
      ]
     },
     "metadata": {},
     "output_type": "display_data"
    }
   ],
   "source": [
    "sns.boxplot(x=\"content_rating\",y=\"duration\",data=imdb, order=('NC-17', 'R', 'PG-13', 'PG', 'G', 'UNRATED'))"
   ]
  },
  {
   "cell_type": "markdown",
   "metadata": {},
   "source": [
    "determine the top rated movie (by star rating) for each genre\n"
   ]
  },
  {
   "cell_type": "code",
   "execution_count": 155,
   "metadata": {
    "collapsed": false
   },
   "outputs": [
    {
     "name": "stdout",
     "output_type": "stream",
     "text": [
      "genre\n",
      "Action       9.0\n",
      "Adventure    8.9\n",
      "Animation    8.6\n",
      "Biography    8.9\n",
      "Comedy       8.6\n",
      "Crime        9.3\n",
      "Drama        8.9\n",
      "Family       7.9\n",
      "Fantasy      7.7\n",
      "Film-Noir    8.3\n",
      "History      8.0\n",
      "Horror       8.6\n",
      "Mystery      8.6\n",
      "Sci-Fi       8.2\n",
      "Thriller     8.0\n",
      "Western      8.9\n",
      "Name: star_rating, dtype: float64\n"
     ]
    }
   ],
   "source": [
    "print imdb.groupby('genre').star_rating.max()"
   ]
  },
  {
   "cell_type": "code",
   "execution_count": 156,
   "metadata": {
    "collapsed": false
   },
   "outputs": [
    {
     "data": {
      "text/plain": [
       "count       979\n",
       "unique       16\n",
       "top       Drama\n",
       "freq        278\n",
       "Name: genre, dtype: object"
      ]
     },
     "execution_count": 156,
     "metadata": {},
     "output_type": "execute_result"
    }
   ],
   "source": [
    "imdb.genre.describe()"
   ]
  },
  {
   "cell_type": "code",
   "execution_count": 178,
   "metadata": {
    "collapsed": false
   },
   "outputs": [
    {
     "name": "stderr",
     "output_type": "stream",
     "text": [
      "/Users/judyyang/anaconda/lib/python2.7/site-packages/ipykernel/__main__.py:25: FutureWarning: sort(columns=....) is deprecated, use sort_values(by=.....)\n",
      "/Users/judyyang/anaconda/lib/python2.7/site-packages/ipykernel/__main__.py:26: FutureWarning: sort(columns=....) is deprecated, use sort_values(by=.....)\n",
      "/Users/judyyang/anaconda/lib/python2.7/site-packages/ipykernel/__main__.py:27: FutureWarning: sort(columns=....) is deprecated, use sort_values(by=.....)\n",
      "/Users/judyyang/anaconda/lib/python2.7/site-packages/ipykernel/__main__.py:28: FutureWarning: sort(columns=....) is deprecated, use sort_values(by=.....)\n",
      "/Users/judyyang/anaconda/lib/python2.7/site-packages/ipykernel/__main__.py:29: FutureWarning: sort(columns=....) is deprecated, use sort_values(by=.....)\n",
      "/Users/judyyang/anaconda/lib/python2.7/site-packages/ipykernel/__main__.py:30: FutureWarning: sort(columns=....) is deprecated, use sort_values(by=.....)\n",
      "/Users/judyyang/anaconda/lib/python2.7/site-packages/ipykernel/__main__.py:31: FutureWarning: sort(columns=....) is deprecated, use sort_values(by=.....)\n"
     ]
    },
    {
     "data": {
      "text/plain": [
       "[     star_rating                                            title  \\\n",
       " 976          7.4  Master and Commander: The Far Side of the World   \n",
       " \n",
       "     content_rating   genre  duration  \\\n",
       " 976          PG-13  Action       138   \n",
       " \n",
       "                                            actors_list  \n",
       " 976  [u'Russell Crowe', u'Paul Bettany', u'Billy Bo...  ,\n",
       "      star_rating                        title content_rating      genre  \\\n",
       " 975          7.4  Back to the Future Part III             PG  Adventure   \n",
       " \n",
       "      duration                                        actors_list  \n",
       " 975       118  [u'Michael J. Fox', u'Christopher Lloyd', u'Ma...  ,\n",
       "      star_rating    title content_rating      genre  duration  \\\n",
       " 964          7.4  Lincoln          PG-13  Biography       150   \n",
       " \n",
       "                                            actors_list  \n",
       " 964  [u'Daniel Day-Lewis', u'Sally Field', u'David ...  ,\n",
       "      star_rating    title content_rating   genre  duration  \\\n",
       " 974          7.4  Tootsie             PG  Comedy       116   \n",
       " \n",
       "                                            actors_list  \n",
       " 974  [u'Dustin Hoffman', u'Jessica Lange', u'Teri G...  ,\n",
       "      star_rating        title content_rating  genre  duration  \\\n",
       " 978          7.4  Wall Street              R  Crime       126   \n",
       " \n",
       "                                            actors_list  \n",
       " 978  [u'Charlie Sheen', u'Michael Douglas', u'Tamar...  ,\n",
       "      star_rating                  title content_rating  genre  duration  \\\n",
       " 973          7.4  The Cider House Rules          PG-13  Drama       126   \n",
       " \n",
       "                                            actors_list  \n",
       " 973  [u'Tobey Maguire', u'Charlize Theron', u'Micha...  ,\n",
       "      star_rating                                title content_rating   genre  \\\n",
       " 497          7.8  Willy Wonka & the Chocolate Factory              G  Family   \n",
       " \n",
       "      duration                                        actors_list  \n",
       " 497       100  [u'Gene Wilder', u'Jack Albertson', u'Peter Os...  ]"
      ]
     },
     "execution_count": 178,
     "metadata": {},
     "output_type": "execute_result"
    }
   ],
   "source": [
    "#Q: how to do a loop on genre, and print just the title?\n",
    "'''\n",
    "Action      \n",
    "Adventure    \n",
    "Animation     \n",
    "Biography    \n",
    "Comedy      \n",
    "Crime        \n",
    "Drama        \n",
    "Family       \n",
    "Fantasy      \n",
    "Film-Noir    \n",
    "History      \n",
    "Horror       \n",
    "Mystery      \n",
    "Sci-Fi       \n",
    "Thriller     \n",
    "Western      \n",
    "'''\n",
    "\n",
    "top_titles=[]\n",
    "\n",
    "#for g in imdb.genre:\n",
    "\n",
    "top_titles.append(imdb[imdb.genre==\"Action\"].sort(\"star_rating\", ascending=True).head(1))\n",
    "top_titles.append(imdb[imdb.genre==\"Adventure\"].sort(\"star_rating\", ascending=True).head(1))\n",
    "top_titles.append(imdb[imdb.genre==\"Biography\"].sort(\"star_rating\", ascending=True).head(1))\n",
    "top_titles.append(imdb[imdb.genre==\"Comedy\"].sort(\"star_rating\", ascending=True).head(1))\n",
    "top_titles.append(imdb[imdb.genre==\"Crime\"].sort(\"star_rating\", ascending=True).head(1))\n",
    "top_titles.append(imdb[imdb.genre==\"Drama\"].sort(\"star_rating\", ascending=True).head(1))\n",
    "top_titles.append(imdb[imdb.genre==\"Family\"].sort(\"star_rating\", ascending=True).head(1))\n",
    "\n",
    "top_titles"
   ]
  },
  {
   "cell_type": "markdown",
   "metadata": {},
   "source": [
    "check if there are multiple movies with the same title, and if so, determine if they are actually duplicates\n"
   ]
  },
  {
   "cell_type": "code",
   "execution_count": 87,
   "metadata": {
    "collapsed": false
   },
   "outputs": [
    {
     "data": {
      "text/plain": [
       "['Dracula', 'Les Miserables', 'The Girl with the Dragon Tattoo', 'True Grit']"
      ]
     },
     "execution_count": 87,
     "metadata": {},
     "output_type": "execute_result"
    }
   ],
   "source": [
    "#check for duplicates\n",
    "imdb.set_index('title').index.get_duplicates()\n",
    "#four duplicate titles\n",
    "dup=imdb.set_index('title').index.get_duplicates()\n",
    "dup"
   ]
  },
  {
   "cell_type": "code",
   "execution_count": 163,
   "metadata": {
    "collapsed": false
   },
   "outputs": [
    {
     "name": "stdout",
     "output_type": "stream",
     "text": [
      "     star_rating                            title content_rating      genre  \\\n",
      "466          7.9  The Girl with the Dragon Tattoo              R      Crime   \n",
      "482          7.8  The Girl with the Dragon Tattoo              R      Crime   \n",
      "662          7.7                        True Grit          PG-13  Adventure   \n",
      "678          7.7                   Les Miserables          PG-13      Drama   \n",
      "703          7.6                          Dracula        UNRATED     Horror   \n",
      "905          7.5                          Dracula              R     Horror   \n",
      "924          7.5                   Les Miserables          PG-13      Crime   \n",
      "936          7.4                        True Grit                 Adventure   \n",
      "\n",
      "     duration                                        actors_list  \n",
      "466       158  [u'Daniel Craig', u'Rooney Mara', u'Christophe...  \n",
      "482       152  [u'Michael Nyqvist', u'Noomi Rapace', u'Ewa Fr...  \n",
      "662       110  [u'Jeff Bridges', u'Matt Damon', u'Hailee Stei...  \n",
      "678       158  [u'Hugh Jackman', u'Russell Crowe', u'Anne Hat...  \n",
      "703        85  [u'Bela Lugosi', u'Helen Chandler', u'David Ma...  \n",
      "905       128  [u'Gary Oldman', u'Winona Ryder', u'Anthony Ho...  \n",
      "924       134  [u'Liam Neeson', u'Geoffrey Rush', u'Uma Thurm...  \n",
      "936       128    [u'John Wayne', u'Kim Darby', u'Glen Campbell']  \n"
     ]
    }
   ],
   "source": [
    "#check if actual duplicates\n",
    "print imdb[(imdb.title=='Dracula') | (imdb.title=='Les Miserables')| (imdb.title=='The Girl with the Dragon Tattoo') | (imdb.title=='True Grit')]\n",
    "#Q: how to do a loop , not sure why this doesn't work\n",
    "#for d in dup:\n",
    "#    print imdb[imdb.title=='d']"
   ]
  },
  {
   "cell_type": "code",
   "execution_count": 98,
   "metadata": {
    "collapsed": false
   },
   "outputs": [
    {
     "ename": "SyntaxError",
     "evalue": "EOF while scanning triple-quoted string literal (<ipython-input-98-ad9484d3b93d>, line 12)",
     "output_type": "error",
     "traceback": [
      "\u001b[0;36m  File \u001b[0;32m\"<ipython-input-98-ad9484d3b93d>\"\u001b[0;36m, line \u001b[0;32m12\u001b[0m\n\u001b[0;31m    ''''''\u001b[0m\n\u001b[0m          \n^\u001b[0m\n\u001b[0;31mSyntaxError\u001b[0m\u001b[0;31m:\u001b[0m EOF while scanning triple-quoted string literal\n"
     ]
    }
   ],
   "source": [
    "'''\n",
    "counts = imdb.groupby('title').size()\n",
    "counts\n",
    "type(counts)\n",
    "df2 = pd.DataFrame(counts, columns = ['title'])\n",
    "df2.head()\n",
    "\n",
    "#how to merge without index and then keep if dups>1?\n",
    "imdb['dups']=counts\n",
    "imdb.head()\n",
    "#imdb[imdb.dups>1]\n",
    "''''''"
   ]
  },
  {
   "cell_type": "markdown",
   "metadata": {},
   "source": [
    "calculate the average star rating for each genre, but only include genres with at least 10 movies\n"
   ]
  },
  {
   "cell_type": "code",
   "execution_count": 96,
   "metadata": {
    "collapsed": false
   },
   "outputs": [
    {
     "data": {
      "text/plain": [
       "Drama        278\n",
       "Comedy       156\n",
       "Action       136\n",
       "Crime        124\n",
       "Biography     77\n",
       "Adventure     75\n",
       "Animation     62\n",
       "Horror        29\n",
       "Mystery       16\n",
       "Western        9\n",
       "Thriller       5\n",
       "Sci-Fi         5\n",
       "Film-Noir      3\n",
       "Family         2\n",
       "Fantasy        1\n",
       "History        1\n",
       "Name: genre, dtype: int64"
      ]
     },
     "execution_count": 96,
     "metadata": {},
     "output_type": "execute_result"
    }
   ],
   "source": [
    "#count number of movies per genre, keep if counts>10, take average\n",
    "imdb.genre.value_counts()"
   ]
  },
  {
   "cell_type": "code",
   "execution_count": 168,
   "metadata": {
    "collapsed": false
   },
   "outputs": [
    {
     "data": {
      "text/plain": [
       "genre\n",
       "Action       7.884559\n",
       "Adventure    7.933333\n",
       "Animation    7.914516\n",
       "Biography    7.862338\n",
       "Comedy       7.822436\n",
       "Crime        7.916935\n",
       "Drama        7.902518\n",
       "Family       7.850000\n",
       "Fantasy      7.700000\n",
       "Film-Noir    8.033333\n",
       "History      8.000000\n",
       "Horror       7.806897\n",
       "Mystery      7.975000\n",
       "Sci-Fi       7.920000\n",
       "Thriller     7.680000\n",
       "Western      8.255556\n",
       "Name: star_rating, dtype: float64"
      ]
     },
     "execution_count": 168,
     "metadata": {},
     "output_type": "execute_result"
    }
   ],
   "source": [
    "#how to limit to genres with 10+ movies?\n",
    "imdb.groupby('genre').star_rating.mean()"
   ]
  },
  {
   "cell_type": "markdown",
   "metadata": {},
   "source": [
    "Figure out something \"interesting\" using the actors data!"
   ]
  },
  {
   "cell_type": "code",
   "execution_count": 171,
   "metadata": {
    "collapsed": false
   },
   "outputs": [
    {
     "data": {
      "text/plain": [
       "pandas.core.series.Series"
      ]
     },
     "execution_count": 171,
     "metadata": {},
     "output_type": "execute_result"
    }
   ],
   "source": [
    "imdb.actors_list\n",
    "type(imdb.actors_list)"
   ]
  },
  {
   "cell_type": "code",
   "execution_count": null,
   "metadata": {
    "collapsed": true
   },
   "outputs": [],
   "source": [
    "#Calculate the number of actors per movie, and then average by genre or content_rating\n",
    "\n",
    "\n",
    "\n",
    "\n"
   ]
  }
 ],
 "metadata": {
  "kernelspec": {
   "display_name": "Python 2",
   "language": "python",
   "name": "python2"
  },
  "language_info": {
   "codemirror_mode": {
    "name": "ipython",
    "version": 2
   },
   "file_extension": ".py",
   "mimetype": "text/x-python",
   "name": "python",
   "nbconvert_exporter": "python",
   "pygments_lexer": "ipython2",
   "version": "2.7.11"
  }
 },
 "nbformat": 4,
 "nbformat_minor": 0
}
