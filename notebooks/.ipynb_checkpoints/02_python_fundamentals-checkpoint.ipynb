{
 "cells": [
  {
   "cell_type": "markdown",
   "metadata": {},
   "source": [
    "** Introduction **\n",
    "\n",
    "You're already here in this iPython notebook, so well done. This brower-based interactive experience provides a useful tool for exploratory and trial-and-error style code writing. And since we're in the business of learning new things, that's inevitably the kind of code writing we'll be doing at first.\n",
    "\n",
    "Each of the \"cells\" can be use to execute python code by hitting Shift-Enter.\n",
    "\n",
    "But this particular cell isn't Python code, it's just \"Markdown\" which means we can type whatever we want to jot down notes and explanation. \n",
    "\n",
    "But \"Code\" cells do get evaluated in a Python process and then sent back here:"
   ]
  },
  {
   "cell_type": "code",
   "execution_count": 1,
   "metadata": {
    "collapsed": false
   },
   "outputs": [
    {
     "data": {
      "text/plain": [
       "5"
      ]
     },
     "execution_count": 1,
     "metadata": {},
     "output_type": "execute_result"
    }
   ],
   "source": [
    "2 + 3"
   ]
  },
  {
   "cell_type": "markdown",
   "metadata": {},
   "source": [
    "This iterative and interactive code execution is quite helpful, as is the Markdown capability, so these notebooks will be a prevalent medium for teaching, learning, and completing homework."
   ]
  },
  {
   "cell_type": "markdown",
   "metadata": {},
   "source": [
    "** Basic Data Types **\n",
    "  * Boolean\n"
   ]
  },
  {
   "cell_type": "code",
   "execution_count": 19,
   "metadata": {
    "collapsed": false
   },
   "outputs": [
    {
     "data": {
      "text/plain": [
       "True"
      ]
     },
     "execution_count": 19,
     "metadata": {},
     "output_type": "execute_result"
    }
   ],
   "source": [
    "2 == 2"
   ]
  },
  {
   "cell_type": "code",
   "execution_count": 20,
   "metadata": {
    "collapsed": false
   },
   "outputs": [
    {
     "data": {
      "text/plain": [
       "False"
      ]
     },
     "execution_count": 20,
     "metadata": {},
     "output_type": "execute_result"
    }
   ],
   "source": [
    "2 == 3"
   ]
  },
  {
   "cell_type": "code",
   "execution_count": 21,
   "metadata": {
    "collapsed": false
   },
   "outputs": [
    {
     "data": {
      "text/plain": [
       "True"
      ]
     },
     "execution_count": 21,
     "metadata": {},
     "output_type": "execute_result"
    }
   ],
   "source": [
    "2 != 3"
   ]
  },
  {
   "cell_type": "markdown",
   "metadata": {},
   "source": [
    "  * Strings"
   ]
  },
  {
   "cell_type": "code",
   "execution_count": 15,
   "metadata": {
    "collapsed": false
   },
   "outputs": [
    {
     "data": {
      "text/plain": [
       "27"
      ]
     },
     "execution_count": 15,
     "metadata": {},
     "output_type": "execute_result"
    }
   ],
   "source": [
    "poe = \"Once upon a midnight dreary\"\n",
    "len(poe)"
   ]
  },
  {
   "cell_type": "code",
   "execution_count": 11,
   "metadata": {
    "collapsed": false
   },
   "outputs": [
    {
     "data": {
      "text/plain": [
       "'once upon a midnight dreary'"
      ]
     },
     "execution_count": 11,
     "metadata": {},
     "output_type": "execute_result"
    }
   ],
   "source": [
    "poe.lower()"
   ]
  },
  {
   "cell_type": "code",
   "execution_count": 14,
   "metadata": {
    "collapsed": false,
    "scrolled": true
   },
   "outputs": [
    {
     "data": {
      "text/plain": [
       "'Once upon a midnight dreary, As I pondered weak and weary'"
      ]
     },
     "execution_count": 14,
     "metadata": {},
     "output_type": "execute_result"
    }
   ],
   "source": [
    "poe + \", As I pondered weak and weary\""
   ]
  },
  {
   "cell_type": "code",
   "execution_count": 15,
   "metadata": {
    "collapsed": true
   },
   "outputs": [],
   "source": [
    "poe += \", As I pondered weak and weary\""
   ]
  },
  {
   "cell_type": "code",
   "execution_count": 16,
   "metadata": {
    "collapsed": false
   },
   "outputs": [
    {
     "data": {
      "text/plain": [
       "'Once upon a midnight dreary, As I pondered weak and weary'"
      ]
     },
     "execution_count": 16,
     "metadata": {},
     "output_type": "execute_result"
    }
   ],
   "source": [
    "poe"
   ]
  },
  {
   "cell_type": "code",
   "execution_count": 23,
   "metadata": {
    "collapsed": false
   },
   "outputs": [
    {
     "data": {
      "text/plain": [
       "['Once',\n",
       " 'upon',\n",
       " 'a',\n",
       " 'midnight',\n",
       " 'dreary,',\n",
       " 'As',\n",
       " 'I',\n",
       " 'pondered',\n",
       " 'weak',\n",
       " 'and',\n",
       " 'weary']"
      ]
     },
     "execution_count": 23,
     "metadata": {},
     "output_type": "execute_result"
    }
   ],
   "source": [
    "poe.split(\" \")"
   ]
  },
  {
   "cell_type": "code",
   "execution_count": 24,
   "metadata": {
    "collapsed": false
   },
   "outputs": [
    {
     "data": {
      "text/plain": [
       "'Once upon a midnight dreary, As I pondered weak and weary'"
      ]
     },
     "execution_count": 24,
     "metadata": {},
     "output_type": "execute_result"
    }
   ],
   "source": [
    "poe"
   ]
  },
  {
   "cell_type": "code",
   "execution_count": 17,
   "metadata": {
    "collapsed": false
   },
   "outputs": [
    {
     "data": {
      "text/plain": [
       "True"
      ]
     },
     "execution_count": 17,
     "metadata": {},
     "output_type": "execute_result"
    }
   ],
   "source": [
    "\"midnight\" in poe"
   ]
  },
  {
   "cell_type": "markdown",
   "metadata": {},
   "source": [
    "  * Ints"
   ]
  },
  {
   "cell_type": "code",
   "execution_count": 25,
   "metadata": {
    "collapsed": false
   },
   "outputs": [
    {
     "data": {
      "text/plain": [
       "16"
      ]
     },
     "execution_count": 25,
     "metadata": {},
     "output_type": "execute_result"
    }
   ],
   "source": [
    "2**4"
   ]
  },
  {
   "cell_type": "markdown",
   "metadata": {},
   "source": [
    "watch out for integer division in Python 2"
   ]
  },
  {
   "cell_type": "code",
   "execution_count": 27,
   "metadata": {
    "collapsed": false
   },
   "outputs": [
    {
     "data": {
      "text/plain": [
       "3"
      ]
     },
     "execution_count": 27,
     "metadata": {},
     "output_type": "execute_result"
    }
   ],
   "source": [
    "7/2"
   ]
  },
  {
   "cell_type": "markdown",
   "metadata": {},
   "source": [
    "  * Floats"
   ]
  },
  {
   "cell_type": "code",
   "execution_count": 28,
   "metadata": {
    "collapsed": false
   },
   "outputs": [
    {
     "data": {
      "text/plain": [
       "3.5"
      ]
     },
     "execution_count": 28,
     "metadata": {},
     "output_type": "execute_result"
    }
   ],
   "source": [
    "7 / float(2)"
   ]
  },
  {
   "cell_type": "markdown",
   "metadata": {},
   "source": [
    "** Basic Data Structures ** \n",
    "  * Tuples - collections of a fixed size, immutable"
   ]
  },
  {
   "cell_type": "code",
   "execution_count": 32,
   "metadata": {
    "collapsed": false
   },
   "outputs": [],
   "source": [
    "someTuple = (\"dog\",5,True)\n"
   ]
  },
  {
   "cell_type": "markdown",
   "metadata": {},
   "source": [
    "Access elements by their position (Python is 0-based)"
   ]
  },
  {
   "cell_type": "code",
   "execution_count": 34,
   "metadata": {
    "collapsed": false
   },
   "outputs": [
    {
     "data": {
      "text/plain": [
       "'dog'"
      ]
     },
     "execution_count": 34,
     "metadata": {},
     "output_type": "execute_result"
    }
   ],
   "source": [
    "someTuple[0]"
   ]
  },
  {
   "cell_type": "code",
   "execution_count": 35,
   "metadata": {
    "collapsed": false
   },
   "outputs": [
    {
     "data": {
      "text/plain": [
       "True"
      ]
     },
     "execution_count": 35,
     "metadata": {},
     "output_type": "execute_result"
    }
   ],
   "source": [
    "someTuple[2]"
   ]
  },
  {
   "cell_type": "markdown",
   "metadata": {},
   "source": [
    "  * Lists - collections of arbitrary size, easily modified"
   ]
  },
  {
   "cell_type": "code",
   "execution_count": 42,
   "metadata": {
    "collapsed": true
   },
   "outputs": [],
   "source": [
    "someList = [1,2, \"lizard\", True]"
   ]
  },
  {
   "cell_type": "code",
   "execution_count": 43,
   "metadata": {
    "collapsed": true
   },
   "outputs": [],
   "source": [
    "someList[1] += 5"
   ]
  },
  {
   "cell_type": "code",
   "execution_count": 44,
   "metadata": {
    "collapsed": false
   },
   "outputs": [],
   "source": [
    "someList[2] += \"_5\""
   ]
  },
  {
   "cell_type": "code",
   "execution_count": 45,
   "metadata": {
    "collapsed": false
   },
   "outputs": [
    {
     "data": {
      "text/plain": [
       "[1, 7, 'lizard_5', True]"
      ]
     },
     "execution_count": 45,
     "metadata": {},
     "output_type": "execute_result"
    }
   ],
   "source": [
    "someList"
   ]
  },
  {
   "cell_type": "code",
   "execution_count": 46,
   "metadata": {
    "collapsed": true
   },
   "outputs": [],
   "source": [
    "someList.append(\"hello\")"
   ]
  },
  {
   "cell_type": "code",
   "execution_count": 47,
   "metadata": {
    "collapsed": false
   },
   "outputs": [
    {
     "data": {
      "text/plain": [
       "[1, 7, 'lizard_5', True, 'hello']"
      ]
     },
     "execution_count": 47,
     "metadata": {},
     "output_type": "execute_result"
    }
   ],
   "source": [
    "someList"
   ]
  },
  {
   "cell_type": "markdown",
   "metadata": {},
   "source": [
    "Notice that the append method modifies the contents of the list *in place* and doesn't return anything. Start to take notice of when operations return values and when they have *in place* modification. "
   ]
  },
  {
   "cell_type": "markdown",
   "metadata": {},
   "source": [
    "  * Dictionaries - good for storing \"lookup associations\""
   ]
  },
  {
   "cell_type": "code",
   "execution_count": 48,
   "metadata": {
    "collapsed": true
   },
   "outputs": [],
   "source": [
    "someDict = {\"Fred\":26, \"Amy\":31,\"Oscar\":41}"
   ]
  },
  {
   "cell_type": "code",
   "execution_count": 50,
   "metadata": {
    "collapsed": false
   },
   "outputs": [
    {
     "data": {
      "text/plain": [
       "26"
      ]
     },
     "execution_count": 50,
     "metadata": {},
     "output_type": "execute_result"
    }
   ],
   "source": [
    "someDict[\"Fred\"]"
   ]
  },
  {
   "cell_type": "code",
   "execution_count": 52,
   "metadata": {
    "collapsed": false
   },
   "outputs": [
    {
     "data": {
      "text/plain": [
       "['Amy', 'Oscar', 'Fred']"
      ]
     },
     "execution_count": 52,
     "metadata": {},
     "output_type": "execute_result"
    }
   ],
   "source": [
    "someDict.keys()\n"
   ]
  },
  {
   "cell_type": "code",
   "execution_count": 54,
   "metadata": {
    "collapsed": false
   },
   "outputs": [
    {
     "data": {
      "text/plain": [
       "[31, 41, 26]"
      ]
     },
     "execution_count": 54,
     "metadata": {},
     "output_type": "execute_result"
    }
   ],
   "source": [
    "someDict.values()"
   ]
  },
  {
   "cell_type": "code",
   "execution_count": 51,
   "metadata": {
    "collapsed": false
   },
   "outputs": [
    {
     "ename": "KeyError",
     "evalue": "'Not a real key'",
     "output_type": "error",
     "traceback": [
      "\u001b[1;31m---------------------------------------------------------------------------\u001b[0m",
      "\u001b[1;31mKeyError\u001b[0m                                  Traceback (most recent call last)",
      "\u001b[1;32m<ipython-input-51-cda7476bb570>\u001b[0m in \u001b[0;36m<module>\u001b[1;34m()\u001b[0m\n\u001b[1;32m----> 1\u001b[1;33m \u001b[0msomeDict\u001b[0m\u001b[1;33m[\u001b[0m\u001b[1;34m\"Not a real key\"\u001b[0m\u001b[1;33m]\u001b[0m\u001b[1;33m\u001b[0m\u001b[0m\n\u001b[0m",
      "\u001b[1;31mKeyError\u001b[0m: 'Not a real key'"
     ]
    }
   ],
   "source": [
    "someDict[\"Not a real key\"]"
   ]
  },
  {
   "cell_type": "markdown",
   "metadata": {},
   "source": [
    "** Exercise ** - Implement a dictionary called *inventory* that keeps track of several products and their corresponding price."
   ]
  },
  {
   "cell_type": "markdown",
   "metadata": {},
   "source": [
    "** Conditional Statements **\n",
    "  * If\n"
   ]
  },
  {
   "cell_type": "code",
   "execution_count": 56,
   "metadata": {
    "collapsed": false
   },
   "outputs": [
    {
     "name": "stdout",
     "output_type": "stream",
     "text": [
      "26\n"
     ]
    }
   ],
   "source": [
    "if \"Fred\" in someDict.keys():\n",
    "    print someDict[\"Fred\"]"
   ]
  },
  {
   "cell_type": "markdown",
   "metadata": {},
   "source": [
    "  * Else "
   ]
  },
  {
   "cell_type": "code",
   "execution_count": 59,
   "metadata": {
    "collapsed": false
   },
   "outputs": [
    {
     "name": "stdout",
     "output_type": "stream",
     "text": [
      "26\n"
     ]
    }
   ],
   "source": [
    "myKey = \"Fred\"\n",
    "if myKey in someDict.keys():\n",
    "    print someDict[myKey]\n",
    "else:\n",
    "    print \"Key not found\""
   ]
  },
  {
   "cell_type": "markdown",
   "metadata": {},
   "source": [
    "  * If-Elif-Else"
   ]
  },
  {
   "cell_type": "code",
   "execution_count": 65,
   "metadata": {
    "collapsed": false
   },
   "outputs": [
    {
     "name": "stdout",
     "output_type": "stream",
     "text": [
      "26\n"
     ]
    }
   ],
   "source": [
    "myKey = \"fred\"\n",
    "if myKey in someDict.keys():\n",
    "    print someDict[myKey]\n",
    "elif myKey.capitalize() in someDict.keys():\n",
    "    print someDict[myKey.capitalize()]\n",
    "else:\n",
    "    print \"Really, I cannot find that key.\"\n",
    "        "
   ]
  },
  {
   "cell_type": "markdown",
   "metadata": {},
   "source": [
    "** Looping over collections **\n",
    "  * For Loops "
   ]
  },
  {
   "cell_type": "code",
   "execution_count": 68,
   "metadata": {
    "collapsed": false
   },
   "outputs": [
    {
     "name": "stdout",
     "output_type": "stream",
     "text": [
      "Here's a word: Once\n",
      "Here's a word: upon\n",
      "Here's a word: a\n",
      "Here's a word: midnight\n",
      "Here's a word: dreary,\n",
      "Here's a word: As\n",
      "Here's a word: I\n",
      "Here's a word: pondered\n",
      "Here's a word: weak\n",
      "Here's a word: and\n",
      "Here's a word: weary\n"
     ]
    }
   ],
   "source": [
    "for word in poe.split(\" \"):\n",
    "    print \"Here's a word: \" + word"
   ]
  },
  {
   "cell_type": "code",
   "execution_count": 70,
   "metadata": {
    "collapsed": false
   },
   "outputs": [
    {
     "name": "stdout",
     "output_type": "stream",
     "text": [
      "Word 0: Once\n",
      "Word 1: upon\n",
      "Word 2: a\n",
      "Word 3: midnight\n",
      "Word 4: dreary,\n",
      "Word 5: As\n",
      "Word 6: I\n",
      "Word 7: pondered\n",
      "Word 8: weak\n",
      "Word 9: and\n",
      "Word 10: weary\n"
     ]
    }
   ],
   "source": [
    "for index,word in enumerate(poe.split(\" \")):\n",
    "    print \"Word \" + str(index) +\": \" + word"
   ]
  },
  {
   "cell_type": "markdown",
   "metadata": {},
   "source": [
    "** Exercise ** - Loop through the numbers 0 to 20 and print only the even numbers. [Hint: use the function range() and the mod operator % ]"
   ]
  },
  {
   "cell_type": "markdown",
   "metadata": {},
   "source": [
    "  * List Comprehensions - a compact for-loop"
   ]
  },
  {
   "cell_type": "code",
   "execution_count": 76,
   "metadata": {
    "collapsed": false
   },
   "outputs": [
    {
     "data": {
      "text/plain": [
       "['Once',\n",
       " 'upon',\n",
       " 'a',\n",
       " 'midnight',\n",
       " 'dreary,',\n",
       " 'As',\n",
       " 'I',\n",
       " 'pondered',\n",
       " 'weak',\n",
       " 'and',\n",
       " 'weary']"
      ]
     },
     "execution_count": 76,
     "metadata": {},
     "output_type": "execute_result"
    }
   ],
   "source": [
    "[word for word in poe.split(\" \")]"
   ]
  },
  {
   "cell_type": "code",
   "execution_count": 77,
   "metadata": {
    "collapsed": false
   },
   "outputs": [
    {
     "data": {
      "text/plain": [
       "['a', 'dreary,', 'weak', 'and', 'weary']"
      ]
     },
     "execution_count": 77,
     "metadata": {},
     "output_type": "execute_result"
    }
   ],
   "source": [
    "[word for word in poe.split(\" \") if \"a\" in word]"
   ]
  },
  {
   "cell_type": "markdown",
   "metadata": {},
   "source": [
    "** Exercise ** - FizzBuzz\n",
    "\n",
    "Loop through the numbers 1 to 35. If a number is a multiple of 3, print \"Fizz\". If the number is a multiple of 5, print \"Buzz\". If a number is a multiple of 3 and 5, print \"FizzBuzz\". For all other numbers, just print out the number. "
   ]
  },
  {
   "cell_type": "markdown",
   "metadata": {},
   "source": [
    "** Functions **\n",
    "\n",
    "Once we start having a complex series of operations to perform, we can and **should** encapsulate those computations into *functions* to provide modularity and reusability.\n",
    "\n",
    "Defining functions requires the **def** keyword, as well as any (optional) arguments and a colon. The content of the function must be poperly indented and will typically use the **return** keyword."
   ]
  },
  {
   "cell_type": "code",
   "execution_count": 9,
   "metadata": {
    "collapsed": true
   },
   "outputs": [],
   "source": [
    "def say_hello():\n",
    "    return \"hello\""
   ]
  },
  {
   "cell_type": "code",
   "execution_count": 10,
   "metadata": {
    "collapsed": false
   },
   "outputs": [
    {
     "name": "stdout",
     "output_type": "stream",
     "text": [
      "hello\n"
     ]
    }
   ],
   "source": [
    "print say_hello()"
   ]
  },
  {
   "cell_type": "markdown",
   "metadata": {},
   "source": [
    "Functions typically takes arguments as inputs and do some transformation or computation with those inputs."
   ]
  },
  {
   "cell_type": "code",
   "execution_count": 11,
   "metadata": {
    "collapsed": true
   },
   "outputs": [],
   "source": [
    "def  combineTwoStrings(a,b):\n",
    "    return a+\"_\"+b"
   ]
  },
  {
   "cell_type": "code",
   "execution_count": 12,
   "metadata": {
    "collapsed": false
   },
   "outputs": [
    {
     "data": {
      "text/plain": [
       "'Hello_World'"
      ]
     },
     "execution_count": 12,
     "metadata": {},
     "output_type": "execute_result"
    }
   ],
   "source": [
    "combineTwoStrings(\"Hello\",\"World\")"
   ]
  },
  {
   "cell_type": "markdown",
   "metadata": {},
   "source": [
    "** Exercise ** Cash Register\n",
    "\n",
    "Write a function **RingUp** that takes in a list of product names, as well as your *inventory* dictionary, and return the total price of the items."
   ]
  },
  {
   "cell_type": "code",
   "execution_count": null,
   "metadata": {
    "collapsed": true
   },
   "outputs": [],
   "source": [
    "def RingUp(items,inventory):\n",
    "    pass"
   ]
  },
  {
   "cell_type": "markdown",
   "metadata": {},
   "source": [
    "** Exercsise** \n",
    "Write a function **GenerousRingUp** that doesn't charge for items that cost less than a dollar."
   ]
  },
  {
   "cell_type": "code",
   "execution_count": null,
   "metadata": {
    "collapsed": true
   },
   "outputs": [],
   "source": [
    "def GenerousRingUp(items,inventory):\n",
    "    pass"
   ]
  },
  {
   "cell_type": "markdown",
   "metadata": {},
   "source": [
    "** Exercise ** - Reimplement FizzBuzz as a function that takes an argument for N"
   ]
  },
  {
   "cell_type": "code",
   "execution_count": 13,
   "metadata": {
    "collapsed": true
   },
   "outputs": [],
   "source": [
    "def FizzBuss(N):\n",
    "    pass"
   ]
  },
  {
   "cell_type": "markdown",
   "metadata": {},
   "source": [
    "** Reading In Files **"
   ]
  },
  {
   "cell_type": "code",
   "execution_count": 21,
   "metadata": {
    "collapsed": true
   },
   "outputs": [],
   "source": [
    "with open(\"../data/airlines.csv\", 'r') as inFile:\n",
    "    f = inFile.read()"
   ]
  },
  {
   "cell_type": "markdown",
   "metadata": {},
   "source": [
    "** Exercise **\n",
    "\n",
    "- Read in the airlines file\n",
    "- split into rows (use the token \\n to split)\n",
    "- split each row on the comma \n",
    "- separate the header row from the data rows\n"
   ]
  },
  {
   "cell_type": "markdown",
   "metadata": {},
   "source": [
    "We can use other utilities that are particularly good at parsing CSV files."
   ]
  },
  {
   "cell_type": "code",
   "execution_count": 24,
   "metadata": {
    "collapsed": false
   },
   "outputs": [],
   "source": [
    "import csv\n",
    "with open('../data/airlines.csv', mode='rU') as f:\n",
    "    file_nested_list = [row for row in csv.reader(f)]"
   ]
  },
  {
   "cell_type": "code",
   "execution_count": 25,
   "metadata": {
    "collapsed": false,
    "scrolled": true
   },
   "outputs": [
    {
     "data": {
      "text/plain": [
       "[['airline',\n",
       "  'avail_seat_km_per_week',\n",
       "  'incidents_85_99',\n",
       "  'fatal_accidents_85_99',\n",
       "  'fatalities_85_99',\n",
       "  'incidents_00_14',\n",
       "  'fatal_accidents_00_14',\n",
       "  'fatalities_00_14'],\n",
       " ['Aer Lingus', '320906734', '2', '0', '0', '0', '0', '0'],\n",
       " ['Aeroflot*', '1197672318', '76', '14', '128', '6', '1', '88'],\n",
       " ['Aerolineas Argentinas', '385803648', '6', '0', '0', '1', '0', '0'],\n",
       " ['Aeromexico*', '596871813', '3', '1', '64', '5', '0', '0'],\n",
       " ['Air Canada', '1865253802', '2', '0', '0', '2', '0', '0'],\n",
       " ['Air France', '3004002661', '14', '4', '79', '6', '2', '337'],\n",
       " ['Air India*', '869253552', '2', '1', '329', '4', '1', '158'],\n",
       " ['Air New Zealand*', '710174817', '3', '0', '0', '5', '1', '7'],\n",
       " ['Alaska Airlines*', '965346773', '5', '0', '0', '5', '1', '88'],\n",
       " ['Alitalia', '698012498', '7', '2', '50', '4', '0', '0'],\n",
       " ['All Nippon Airways', '1841234177', '3', '1', '1', '7', '0', '0'],\n",
       " ['American*', '5228357340', '21', '5', '101', '17', '3', '416'],\n",
       " ['Austrian Airlines', '358239823', '1', '0', '0', '1', '0', '0'],\n",
       " ['Avianca', '396922563', '5', '3', '323', '0', '0', '0'],\n",
       " ['British Airways*', '3179760952', '4', '0', '0', '6', '0', '0'],\n",
       " ['Cathay Pacific*', '2582459303', '0', '0', '0', '2', '0', '0'],\n",
       " ['China Airlines', '813216487', '12', '6', '535', '2', '1', '225'],\n",
       " ['Condor', '417982610', '2', '1', '16', '0', '0', '0'],\n",
       " ['COPA', '550491507', '3', '1', '47', '0', '0', '0'],\n",
       " ['Delta / Northwest*', '6525658894', '24', '12', '407', '24', '2', '51'],\n",
       " ['Egyptair', '557699891', '8', '3', '282', '4', '1', '14'],\n",
       " ['El Al', '335448023', '1', '1', '4', '1', '0', '0'],\n",
       " ['Ethiopian Airlines', '488560643', '25', '5', '167', '5', '2', '92'],\n",
       " ['Finnair', '506464950', '1', '0', '0', '0', '0', '0'],\n",
       " ['Garuda Indonesia', '613356665', '10', '3', '260', '4', '2', '22'],\n",
       " ['Gulf Air', '301379762', '1', '0', '0', '3', '1', '143'],\n",
       " ['Hawaiian Airlines', '493877795', '0', '0', '0', '1', '0', '0'],\n",
       " ['Iberia', '1173203126', '4', '1', '148', '5', '0', '0'],\n",
       " ['Japan Airlines', '1574217531', '3', '1', '520', '0', '0', '0'],\n",
       " ['Kenya Airways', '277414794', '2', '0', '0', '2', '2', '283'],\n",
       " ['KLM*', '1874561773', '7', '1', '3', '1', '0', '0'],\n",
       " ['Korean Air', '1734522605', '12', '5', '425', '1', '0', '0'],\n",
       " ['LAN Airlines', '1001965891', '3', '2', '21', '0', '0', '0'],\n",
       " ['Lufthansa*', '3426529504', '6', '1', '2', '3', '0', '0'],\n",
       " ['Malaysia Airlines', '1039171244', '3', '1', '34', '3', '2', '537'],\n",
       " ['Pakistan International', '348563137', '8', '3', '234', '10', '2', '46'],\n",
       " ['Philippine Airlines', '413007158', '7', '4', '74', '2', '1', '1'],\n",
       " ['Qantas*', '1917428984', '1', '0', '0', '5', '0', '0'],\n",
       " ['Royal Air Maroc', '295705339', '5', '3', '51', '3', '0', '0'],\n",
       " ['SAS*', '682971852', '5', '0', '0', '6', '1', '110'],\n",
       " ['Saudi Arabian', '859673901', '7', '2', '313', '11', '0', '0'],\n",
       " ['Singapore Airlines', '2376857805', '2', '2', '6', '2', '1', '83'],\n",
       " ['South African', '651502442', '2', '1', '159', '1', '0', '0'],\n",
       " ['Southwest Airlines', '3276525770', '1', '0', '0', '8', '0', '0'],\n",
       " ['Sri Lankan / AirLanka', '325582976', '2', '1', '14', '4', '0', '0'],\n",
       " ['SWISS*', '792601299', '2', '1', '229', '3', '0', '0'],\n",
       " ['TACA', '259373346', '3', '1', '3', '1', '1', '3'],\n",
       " ['TAM', '1509195646', '8', '3', '98', '7', '2', '188'],\n",
       " ['TAP - Air Portugal', '619130754', '0', '0', '0', '0', '0', '0'],\n",
       " ['Thai Airways', '1702802250', '8', '4', '308', '2', '1', '1'],\n",
       " ['Turkish Airlines', '1946098294', '8', '3', '64', '8', '2', '84'],\n",
       " ['United / Continental*', '7139291291', '19', '8', '319', '14', '2', '109'],\n",
       " ['US Airways / America West*',\n",
       "  '2455687887',\n",
       "  '16',\n",
       "  '7',\n",
       "  '224',\n",
       "  '11',\n",
       "  '2',\n",
       "  '23'],\n",
       " ['Vietnam Airlines', '625084918', '7', '3', '171', '1', '0', '0'],\n",
       " ['Virgin Atlantic', '1005248585', '1', '0', '0', '0', '0', '0'],\n",
       " ['Xiamen Airlines', '430462962', '9', '1', '82', '2', '0', '0']]"
      ]
     },
     "execution_count": 25,
     "metadata": {},
     "output_type": "execute_result"
    }
   ],
   "source": [
    "file_nested_list"
   ]
  },
  {
   "cell_type": "markdown",
   "metadata": {},
   "source": [
    "** Data Cleaning ** \n",
    "- With the airlines data, subset only the rows the airline name ends in a *\n",
    "- For this subset, calculate the average avail_seat_km_per_week"
   ]
  },
  {
   "cell_type": "markdown",
   "metadata": {},
   "source": [
    "** Exercise ** With the data set you brought in\n",
    "- Repeat this process (if applicable)\n",
    "- Read in the data, separate the rows\n",
    "- Further parse the rows, if needed\n",
    "- Come up with something to calculate about the data\n"
   ]
  },
  {
   "cell_type": "markdown",
   "metadata": {
    "collapsed": true
   },
   "source": [
    "*** Optional Material ***"
   ]
  },
  {
   "cell_type": "markdown",
   "metadata": {},
   "source": [
    "** Higher-Order functions ** \n",
    "\n",
    "A higher-order function is any function that either (i) takes a function as an input or (ii) produces a function as an output. \n",
    "\n",
    "A common one is *map* which provides us another way to iterate over collections and perform some operation to each element. The first argument to map is a function which we wish to apply to every element. The second argument is the collection."
   ]
  },
  {
   "cell_type": "code",
   "execution_count": 80,
   "metadata": {
    "collapsed": false
   },
   "outputs": [
    {
     "data": {
      "text/plain": [
       "[4, 4, 1, 8, 7, 2, 1, 8, 4, 3, 5]"
      ]
     },
     "execution_count": 80,
     "metadata": {},
     "output_type": "execute_result"
    }
   ],
   "source": [
    "map(len, poe.split(\" \"))"
   ]
  },
  {
   "cell_type": "markdown",
   "metadata": {},
   "source": [
    "Another common one is *reduce* which has the same positional arguments. For reduce, you function you pass in must take in two elements and produce a single element in return (this forms a *commutative monoid* if you really want to get nerdy here). "
   ]
  },
  {
   "cell_type": "code",
   "execution_count": 16,
   "metadata": {
    "collapsed": false
   },
   "outputs": [
    {
     "data": {
      "text/plain": [
       "'Once_upon_a_midnight_dreary'"
      ]
     },
     "execution_count": 16,
     "metadata": {},
     "output_type": "execute_result"
    }
   ],
   "source": [
    "reduce(combineTwoStrings, poe.split(\" \"))"
   ]
  },
  {
   "cell_type": "markdown",
   "metadata": {},
   "source": [
    "** Lambdas aka Anonymous Functions aka Function Literals **\n",
    "\n",
    "You may encouter Lambda expressions, and they seem more complicated than they are. Once you get the hang of them, they're super useful, most especially in combination with higher-order functions."
   ]
  },
  {
   "cell_type": "code",
   "execution_count": 83,
   "metadata": {
    "collapsed": false
   },
   "outputs": [
    {
     "data": {
      "text/plain": [
       "['Once',\n",
       " 'Upon',\n",
       " 'A',\n",
       " 'Midnight',\n",
       " 'Dreary,',\n",
       " 'As',\n",
       " 'I',\n",
       " 'Pondered',\n",
       " 'Weak',\n",
       " 'And',\n",
       " 'Weary']"
      ]
     },
     "execution_count": 83,
     "metadata": {},
     "output_type": "execute_result"
    }
   ],
   "source": [
    "map(lambda s: s.capitalize(),poe.split(\" \"))"
   ]
  },
  {
   "cell_type": "markdown",
   "metadata": {},
   "source": [
    "** Classes and Methods **\n",
    "\n",
    "We don't really need to write code in the Object Oriented style, but many of the libraries we'll use (such as scikit-learn) implement their functionality through such an interface, so we should be familiar with the premise. "
   ]
  },
  {
   "cell_type": "code",
   "execution_count": 17,
   "metadata": {
    "collapsed": true
   },
   "outputs": [],
   "source": [
    "class Person:\n",
    "    def __init__(self,name,age):\n",
    "        self.name=name\n",
    "        self.age=age\n",
    "        \n",
    "    def age_in_dog_years(self):\n",
    "        return self.age / 7"
   ]
  },
  {
   "cell_type": "code",
   "execution_count": 18,
   "metadata": {
    "collapsed": true
   },
   "outputs": [],
   "source": [
    "person1 = Person(\"Alice\", 22)\n",
    "person2 = Person(\"Jeff\",42)"
   ]
  },
  {
   "cell_type": "code",
   "execution_count": 19,
   "metadata": {
    "collapsed": false
   },
   "outputs": [
    {
     "data": {
      "text/plain": [
       "22"
      ]
     },
     "execution_count": 19,
     "metadata": {},
     "output_type": "execute_result"
    }
   ],
   "source": [
    "person1.name\n",
    "person1.age"
   ]
  },
  {
   "cell_type": "code",
   "execution_count": 20,
   "metadata": {
    "collapsed": false
   },
   "outputs": [
    {
     "data": {
      "text/plain": [
       "6"
      ]
     },
     "execution_count": 20,
     "metadata": {},
     "output_type": "execute_result"
    }
   ],
   "source": [
    "person2.age_in_dog_years()"
   ]
  },
  {
   "cell_type": "code",
   "execution_count": null,
   "metadata": {
    "collapsed": true
   },
   "outputs": [],
   "source": []
  }
 ],
 "metadata": {
  "kernelspec": {
   "display_name": "Python 2",
   "language": "python",
   "name": "python2"
  },
  "language_info": {
   "codemirror_mode": {
    "name": "ipython",
    "version": 2
   },
   "file_extension": ".py",
   "mimetype": "text/x-python",
   "name": "python",
   "nbconvert_exporter": "python",
   "pygments_lexer": "ipython2",
   "version": "2.7.10"
  }
 },
 "nbformat": 4,
 "nbformat_minor": 0
}
